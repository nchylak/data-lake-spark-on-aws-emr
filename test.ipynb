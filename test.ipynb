{
 "cells": [
  {
   "cell_type": "code",
   "execution_count": 1,
   "id": "05c151e6",
   "metadata": {},
   "outputs": [
    {
     "data": {
      "application/vnd.jupyter.widget-view+json": {
       "model_id": "27621ea51e5e4cda97a0f1741a916114",
       "version_major": 2,
       "version_minor": 0
      },
      "text/plain": [
       "VBox()"
      ]
     },
     "metadata": {},
     "output_type": "display_data"
    },
    {
     "name": "stdout",
     "output_type": "stream",
     "text": [
      "Starting Spark application\n"
     ]
    },
    {
     "data": {
      "text/html": [
       "<table>\n",
       "<tr><th>ID</th><th>YARN Application ID</th><th>Kind</th><th>State</th><th>Spark UI</th><th>Driver log</th><th>Current session?</th></tr><tr><td>1</td><td>application_1636617898262_0010</td><td>pyspark</td><td>idle</td><td><a target=\"_blank\" href=\"http://ip-172-31-3-111.us-west-2.compute.internal:20888/proxy/application_1636617898262_0010/\">Link</a></td><td><a target=\"_blank\" href=\"http://ip-172-31-13-58.us-west-2.compute.internal:8042/node/containerlogs/container_1636617898262_0010_01_000001/livy\">Link</a></td><td>✔</td></tr></table>"
      ],
      "text/plain": [
       "<IPython.core.display.HTML object>"
      ]
     },
     "metadata": {},
     "output_type": "display_data"
    },
    {
     "data": {
      "application/vnd.jupyter.widget-view+json": {
       "model_id": "",
       "version_major": 2,
       "version_minor": 0
      },
      "text/plain": [
       "FloatProgress(value=0.0, bar_style='info', description='Progress:', layout=Layout(height='25px', width='50%'),…"
      ]
     },
     "metadata": {},
     "output_type": "display_data"
    },
    {
     "name": "stdout",
     "output_type": "stream",
     "text": [
      "SparkSession available as 'spark'.\n"
     ]
    },
    {
     "data": {
      "application/vnd.jupyter.widget-view+json": {
       "model_id": "",
       "version_major": 2,
       "version_minor": 0
      },
      "text/plain": [
       "FloatProgress(value=0.0, bar_style='info', description='Progress:', layout=Layout(height='25px', width='50%'),…"
      ]
     },
     "metadata": {},
     "output_type": "display_data"
    }
   ],
   "source": [
    "import pyspark.sql.functions as F"
   ]
  },
  {
   "cell_type": "code",
   "execution_count": 4,
   "id": "5ac3714d",
   "metadata": {},
   "outputs": [
    {
     "data": {
      "application/vnd.jupyter.widget-view+json": {
       "model_id": "997c0db8b1a94b969d8e6b5f22ccb3de",
       "version_major": 2,
       "version_minor": 0
      },
      "text/plain": [
       "VBox()"
      ]
     },
     "metadata": {},
     "output_type": "display_data"
    },
    {
     "data": {
      "application/vnd.jupyter.widget-view+json": {
       "model_id": "",
       "version_major": 2,
       "version_minor": 0
      },
      "text/plain": [
       "FloatProgress(value=0.0, bar_style='info', description='Progress:', layout=Layout(height='25px', width='50%'),…"
      ]
     },
     "metadata": {},
     "output_type": "display_data"
    },
    {
     "name": "stdout",
     "output_type": "stream",
     "text": [
      "+-----------+-------------------+-------+-----+------------------+------------------+----------+--------------------+--------------------+----+-----+\n",
      "|songplay_id|         start_time|user_id|level|           song_id|         artist_id|session_id|            location|          user_agent|year|month|\n",
      "+-----------+-------------------+-------+-----+------------------+------------------+----------+--------------------+--------------------+----+-----+\n",
      "|        301|2018-11-04 07:31:31|     25| paid|SOHWVJJ12AB0185F6D|ARASYMJ1187B9ACAF2|       128|    Marinette, WI-MI|\"Mozilla/5.0 (Win...|2018|   11|\n",
      "|       5376|2018-11-26 08:28:48|     97| paid|SOJWLVW12A67ADE81C|AROPXGU1187B98987F|       837|Lansing-East Lans...|\"Mozilla/5.0 (X11...|2018|   11|\n",
      "|       5377|2018-11-26 08:30:57|     44| paid|SORAHAG12AB0182BD0|AR8UZXF1187B9AB868|       781|Waterloo-Cedar Fa...|Mozilla/5.0 (Maci...|2018|   11|\n",
      "|        144|2018-11-02 16:35:00|     50| free|SOBONKR12A58A7A7E0|AR5E44Z1187B9A1D74|       156|New Haven-Milford...|\"Mozilla/5.0 (Win...|2018|   11|\n",
      "|        158|2018-11-02 18:02:42|     50| free|SOBONKR12A58A7A7E0|AR5E44Z1187B9A1D74|       207|New Haven-Milford...|\"Mozilla/5.0 (Win...|2018|   11|\n",
      "+-----------+-------------------+-------+-----+------------------+------------------+----------+--------------------+--------------------+----+-----+\n",
      "only showing top 5 rows"
     ]
    }
   ],
   "source": [
    "(spark.read.parquet(\"s3a://sparkify-17sd2e9/songplays\")\n",
    "     .where(F.col(\"artist_id\").isNotNull())\n",
    "     .where(F.col(\"song_id\").isNotNull())\n",
    "     .show(5)\n",
    ")"
   ]
  },
  {
   "cell_type": "code",
   "execution_count": 5,
   "id": "4191f706",
   "metadata": {},
   "outputs": [
    {
     "data": {
      "application/vnd.jupyter.widget-view+json": {
       "model_id": "533da4acd5284d1caca77d9fa56fa230",
       "version_major": 2,
       "version_minor": 0
      },
      "text/plain": [
       "VBox()"
      ]
     },
     "metadata": {},
     "output_type": "display_data"
    },
    {
     "data": {
      "application/vnd.jupyter.widget-view+json": {
       "model_id": "",
       "version_major": 2,
       "version_minor": 0
      },
      "text/plain": [
       "FloatProgress(value=0.0, bar_style='info', description='Progress:', layout=Layout(height='25px', width='50%'),…"
      ]
     },
     "metadata": {},
     "output_type": "display_data"
    },
    {
     "name": "stdout",
     "output_type": "stream",
     "text": [
      "+------------------+--------------------+--------------------+--------+----------+\n",
      "|         artist_id|                name|            location|latitude| longitude|\n",
      "+------------------+--------------------+--------------------+--------+----------+\n",
      "|AR0D7K21187B9AD14E|        Oingo Boingo|                    |    null|      null|\n",
      "|AR1C2IX1187B99BF74|     Broken Spindles|                    |    null|      null|\n",
      "|AR1E4V11187B99F400|            Telecast|     California - LA|34.05349|-118.24532|\n",
      "|AR1L2NA119B86684B4|Dr. Hook And The ...|Union City, New J...|40.77387| -74.02469|\n",
      "|AR1N3PB1187B9B25C1|     Andres Calamaro|                    |    null|      null|\n",
      "+------------------+--------------------+--------------------+--------+----------+\n",
      "only showing top 5 rows"
     ]
    }
   ],
   "source": [
    "spark.read.parquet(\"s3a://sparkify-17sd2e9/artists\").show(5)"
   ]
  },
  {
   "cell_type": "code",
   "execution_count": 6,
   "id": "fab9ca0e",
   "metadata": {},
   "outputs": [
    {
     "data": {
      "application/vnd.jupyter.widget-view+json": {
       "model_id": "a140ec30d08744d7b0909fda6203df22",
       "version_major": 2,
       "version_minor": 0
      },
      "text/plain": [
       "VBox()"
      ]
     },
     "metadata": {},
     "output_type": "display_data"
    },
    {
     "data": {
      "application/vnd.jupyter.widget-view+json": {
       "model_id": "",
       "version_major": 2,
       "version_minor": 0
      },
      "text/plain": [
       "FloatProgress(value=0.0, bar_style='info', description='Progress:', layout=Layout(height='25px', width='50%'),…"
      ]
     },
     "metadata": {},
     "output_type": "display_data"
    },
    {
     "name": "stdout",
     "output_type": "stream",
     "text": [
      "+------------------+--------------------+---------+----+------------------+\n",
      "|           song_id|               title| duration|year|         artist_id|\n",
      "+------------------+--------------------+---------+----+------------------+\n",
      "|SODUMDU12AC468A22B|We're Skrewed (Ot...| 249.5473|   0|ARHOSMU1242078130D|\n",
      "|SOPSXLI12A6D4FA418|Practical Cats - ...|251.03628|   0|ARR79V31187FB5B96E|\n",
      "|SOUFBFK12A8C13D668|String Quartets O...|348.60363|   0|ARAILTA11F4C840A06|\n",
      "|SOROAMT12A8C13C6D0|Me gustan mas los...|101.85098|2008|ARWUDTF1187B9AA096|\n",
      "|SOQEBML12A8C136AA4|Werther (1997 Dig...| 55.40526|   0|AR5R7791187FB3A8C3|\n",
      "+------------------+--------------------+---------+----+------------------+\n",
      "only showing top 5 rows"
     ]
    }
   ],
   "source": [
    "spark.read.parquet(\"s3a://sparkify-17sd2e9/songs\").show(5)"
   ]
  },
  {
   "cell_type": "code",
   "execution_count": 7,
   "id": "1e832e5a",
   "metadata": {},
   "outputs": [
    {
     "data": {
      "application/vnd.jupyter.widget-view+json": {
       "model_id": "0a63a1fcb7f74a0c98d372690800154d",
       "version_major": 2,
       "version_minor": 0
      },
      "text/plain": [
       "VBox()"
      ]
     },
     "metadata": {},
     "output_type": "display_data"
    },
    {
     "data": {
      "application/vnd.jupyter.widget-view+json": {
       "model_id": "",
       "version_major": 2,
       "version_minor": 0
      },
      "text/plain": [
       "FloatProgress(value=0.0, bar_style='info', description='Progress:', layout=Layout(height='25px', width='50%'),…"
      ]
     },
     "metadata": {},
     "output_type": "display_data"
    },
    {
     "name": "stdout",
     "output_type": "stream",
     "text": [
      "+-------------------+----+---+----+-------+----+-----+\n",
      "|         start_time|hour|day|week|weekday|year|month|\n",
      "+-------------------+----+---+----+-------+----+-----+\n",
      "|2018-11-15 11:42:37|  11| 15|  46|      5|2018|   11|\n",
      "|2018-11-15 12:18:45|  12| 15|  46|      5|2018|   11|\n",
      "|2018-11-15 14:12:30|  14| 15|  46|      5|2018|   11|\n",
      "|2018-11-21 07:02:25|   7| 21|  47|      4|2018|   11|\n",
      "|2018-11-21 11:29:54|  11| 21|  47|      4|2018|   11|\n",
      "+-------------------+----+---+----+-------+----+-----+\n",
      "only showing top 5 rows"
     ]
    }
   ],
   "source": [
    "spark.read.parquet(\"s3a://sparkify-17sd2e9/time\").show(5)"
   ]
  },
  {
   "cell_type": "code",
   "execution_count": 8,
   "id": "e6a2a6fe",
   "metadata": {},
   "outputs": [
    {
     "data": {
      "application/vnd.jupyter.widget-view+json": {
       "model_id": "555565f23b9449afb378ac8410f0cf26",
       "version_major": 2,
       "version_minor": 0
      },
      "text/plain": [
       "VBox()"
      ]
     },
     "metadata": {},
     "output_type": "display_data"
    },
    {
     "data": {
      "application/vnd.jupyter.widget-view+json": {
       "model_id": "",
       "version_major": 2,
       "version_minor": 0
      },
      "text/plain": [
       "FloatProgress(value=0.0, bar_style='info', description='Progress:', layout=Layout(height='25px', width='50%'),…"
      ]
     },
     "metadata": {},
     "output_type": "display_data"
    },
    {
     "name": "stdout",
     "output_type": "stream",
     "text": [
      "+-------+----------+---------+------+-----+\n",
      "|user_id|first_name|last_name|gender|level|\n",
      "+-------+----------+---------+------+-----+\n",
      "|     88|  Mohammad|Rodriguez|     M| free|\n",
      "|     75|    Joseph|Gutierrez|     M| free|\n",
      "|     53|   Celeste| Williams|     F| free|\n",
      "|     60|     Devin|   Larson|     M| free|\n",
      "|     68|    Jordan|Rodriguez|     F| free|\n",
      "+-------+----------+---------+------+-----+\n",
      "only showing top 5 rows"
     ]
    }
   ],
   "source": [
    "spark.read.parquet(\"s3a://sparkify-17sd2e9/users\").show(5)"
   ]
  }
 ],
 "metadata": {
  "kernelspec": {
   "display_name": "PySpark",
   "language": "",
   "name": "pysparkkernel"
  },
  "language_info": {
   "codemirror_mode": {
    "name": "python",
    "version": 2
   },
   "mimetype": "text/x-python",
   "name": "pyspark",
   "pygments_lexer": "python2"
  }
 },
 "nbformat": 4,
 "nbformat_minor": 5
}
